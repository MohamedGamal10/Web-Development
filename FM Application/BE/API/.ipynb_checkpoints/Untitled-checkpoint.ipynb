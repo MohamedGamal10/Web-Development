{
 "cells": [
  {
   "cell_type": "code",
   "execution_count": 1,
   "id": "ff844d77",
   "metadata": {},
   "outputs": [],
   "source": [
    "import pandas as pd\n",
    "import json\n",
    "import pymongo\n",
    "import bson\n",
    "from bson import ObjectId\n",
    "import gridfs\n",
    "import os\n",
    "import datetime\n",
    "from dateutil import parser\n",
    "from PIL import Image"
   ]
  },
  {
   "cell_type": "code",
   "execution_count": 46,
   "id": "d99f5a4e",
   "metadata": {},
   "outputs": [
    {
     "data": {
      "text/html": [
       "<div>\n",
       "<style scoped>\n",
       "    .dataframe tbody tr th:only-of-type {\n",
       "        vertical-align: middle;\n",
       "    }\n",
       "\n",
       "    .dataframe tbody tr th {\n",
       "        vertical-align: top;\n",
       "    }\n",
       "\n",
       "    .dataframe thead th {\n",
       "        text-align: right;\n",
       "    }\n",
       "</style>\n",
       "<table border=\"1\" class=\"dataframe\">\n",
       "  <thead>\n",
       "    <tr style=\"text-align: right;\">\n",
       "      <th></th>\n",
       "      <th>Site_ID</th>\n",
       "      <th>Reading_Number</th>\n",
       "      <th>Vendor</th>\n",
       "      <th>Date</th>\n",
       "      <th>Power</th>\n",
       "      <th>Image</th>\n",
       "    </tr>\n",
       "  </thead>\n",
       "  <tbody>\n",
       "    <tr>\n",
       "      <th>0</th>\n",
       "      <td>LALXA13245</td>\n",
       "      <td>1</td>\n",
       "      <td>NOKIA</td>\n",
       "      <td>4/2/2022</td>\n",
       "      <td>50</td>\n",
       "      <td>C:\\Users\\Mohamed Gamal\\Desktop\\FM Tool\\BE\\API\\...</td>\n",
       "    </tr>\n",
       "  </tbody>\n",
       "</table>\n",
       "</div>"
      ],
      "text/plain": [
       "      Site_ID  Reading_Number Vendor      Date  Power  \\\n",
       "0  LALXA13245               1  NOKIA  4/2/2022     50   \n",
       "\n",
       "                                               Image  \n",
       "0  C:\\Users\\Mohamed Gamal\\Desktop\\FM Tool\\BE\\API\\...  "
      ]
     },
     "execution_count": 46,
     "metadata": {},
     "output_type": "execute_result"
    }
   ],
   "source": [
    "df = pd.read_csv(\"Power.csv\")\n",
    "df.head(1)"
   ]
  },
  {
   "cell_type": "code",
   "execution_count": 9,
   "id": "2a5cd456",
   "metadata": {},
   "outputs": [],
   "source": [
    "myclient = pymongo.MongoClient(\"mongodb://localhost:27017/\")\n",
    "\n",
    "mydb = myclient[\"fm_db\"]\n",
    "\n",
    "mycol = mydb[\"power_reading_meter\"]"
   ]
  },
  {
   "cell_type": "code",
   "execution_count": 57,
   "id": "574e561a",
   "metadata": {},
   "outputs": [],
   "source": [
    "for i in range(df.shape[0]):\n",
    "    file_name = os.path.basename(df.iloc[i,5])\n",
    "    image = open(df.iloc[i,5],\"rb\").read()\n",
    "    fs = gridfs.GridFS(mydb)\n",
    "    image_id = fs.put(image, filename=os.path.splitext(file_name)[0])\n",
    "    mycol.insert_one({\"Site_ID\":df.iloc[i,0],\"Reading_Number\":int(str(df.iloc[i,1]))\n",
    "                      ,\"Vendor\":df.iloc[i,2], \"Date\":parser.parse(df.iloc[i,3]), \"Power\":int(str(df.iloc[i,4]))\n",
    "                     ,\"Image\":str(image_id)})"
   ]
  },
  {
   "cell_type": "code",
   "execution_count": 56,
   "id": "a9b854d1",
   "metadata": {},
   "outputs": [
    {
     "name": "stdout",
     "output_type": "stream",
     "text": [
      "digital\n",
      "digital\n",
      "digital\n",
      "digital\n",
      "digital2\n",
      "digital2\n",
      "digital2\n",
      "digital2\n",
      "digital3\n",
      "digital3\n",
      "digital3\n",
      "digital3\n",
      "digital4\n",
      "digital4\n",
      "digital4\n",
      "digital4\n",
      "digital\n",
      "digital\n",
      "digital\n",
      "digital\n",
      "digital2\n",
      "digital2\n",
      "digital2\n",
      "digital2\n",
      "digital4\n",
      "digital4\n",
      "digital4\n",
      "digital4\n"
     ]
    }
   ],
   "source": [
    "for i in range(df.shape[0]):\n",
    "    file_name = os.path.basename(df.iloc[i,5])\n",
    "    image = open(df.iloc[i,5],\"rb\").read()\n",
    "    print(os.path.splitext(file_name)[0])"
   ]
  },
  {
   "cell_type": "code",
   "execution_count": 9,
   "id": "09963d96",
   "metadata": {},
   "outputs": [],
   "source": [
    "myclient = pymongo.MongoClient(\"mongodb://localhost:27017/\")\n",
    "\n",
    "mydb = myclient[\"fm_db\"]\n",
    "\n",
    "fs = gridfs.GridFS(mydb)\n",
    "\n",
    "# Imports PIL module \n",
    "from PIL import Image\n",
    "from bson import ObjectId\n",
    "# open method used to open different extension image file\n",
    "im = Image.open(fs.get(ObjectId(\"62f5ab1ee635a659584f6841\")))\n",
    "\n",
    "# This method will show image in any image viewer \n",
    "im.show() "
   ]
  },
  {
   "cell_type": "code",
   "execution_count": null,
   "id": "63a1a51f",
   "metadata": {},
   "outputs": [],
   "source": []
  },
  {
   "cell_type": "code",
   "execution_count": null,
   "id": "40464942",
   "metadata": {},
   "outputs": [],
   "source": []
  },
  {
   "cell_type": "code",
   "execution_count": null,
   "id": "449a8c4b",
   "metadata": {},
   "outputs": [],
   "source": []
  },
  {
   "cell_type": "code",
   "execution_count": null,
   "id": "5249c6f4",
   "metadata": {},
   "outputs": [],
   "source": []
  },
  {
   "cell_type": "code",
   "execution_count": 2,
   "id": "9c9e7196",
   "metadata": {},
   "outputs": [],
   "source": [
    "myclient = pymongo.MongoClient(\"mongodb://localhost:27017/\")\n",
    "\n",
    "mydb = myclient[\"fm_db\"]\n",
    "\n",
    "mycol = mydb[\"power_reading_meter\"]"
   ]
  },
  {
   "cell_type": "code",
   "execution_count": 138,
   "id": "1d725d36",
   "metadata": {},
   "outputs": [],
   "source": [
    "IP=\"Localhost\"\n",
    "Port = \"8000\"\n",
    "data = pd.DataFrame(list(mycol.find({\"Site_ID\":\"LALXA13245\",\n",
    "            \"Date\": { \"$gte\": datetime.datetime(2022, 4, 2), \"$lte\": datetime.datetime(2022, 4, 3)}})))\n",
    "\n",
    "data[\"Image_URL\"]=\"\"\n",
    "fs = gridfs.GridFS(mydb)\n",
    "\n",
    "for i in range(data.shape[0]):\n",
    "    im = Image.open(fs.get(ObjectId(str(data.iloc[i,6]))))\n",
    "    im.save(\"static/{}\".format(str(data.iloc[i,6]) +\".\" +im.format))\n",
    "    data[\"Image_URL\"].iloc[i] = \"http://{}:{}/static/{}\".format(IP, Port,str(data.iloc[i,6]) +\".\" +str(im.format))"
   ]
  },
  {
   "cell_type": "code",
   "execution_count": 141,
   "id": "5795c17b",
   "metadata": {},
   "outputs": [
    {
     "data": {
      "text/plain": [
       "str"
      ]
     },
     "execution_count": 141,
     "metadata": {},
     "output_type": "execute_result"
    }
   ],
   "source": [
    "data['_id'] = data['_id'].apply(lambda x: str(ObjectId(x)))\n",
    "data['Site_ID'] = data['Site_ID'].apply(lambda x: str(ObjectId(x)))\n",
    "data['Vendor'] = data['Vendor'].apply(lambda x: str(ObjectId(x)))\n",
    "data['Image'] = data['Image'].apply(lambda x: str(ObjectId(x)))\n",
    "data['Image_URL'] = data['Image_URL'].apply(lambda x: str(ObjectId(x)))\n",
    "type(data.iloc[0,0])"
   ]
  },
  {
   "cell_type": "code",
   "execution_count": 142,
   "id": "92212598",
   "metadata": {},
   "outputs": [
    {
     "name": "stdout",
     "output_type": "stream",
     "text": [
      "<class 'pandas.core.frame.DataFrame'>\n",
      "RangeIndex: 2 entries, 0 to 1\n",
      "Data columns (total 8 columns):\n",
      " #   Column          Non-Null Count  Dtype         \n",
      "---  ------          --------------  -----         \n",
      " 0   _id             2 non-null      object        \n",
      " 1   Site_ID         2 non-null      object        \n",
      " 2   Reading_Number  2 non-null      int64         \n",
      " 3   Vendor          2 non-null      object        \n",
      " 4   Date            2 non-null      datetime64[ns]\n",
      " 5   Power           2 non-null      int64         \n",
      " 6   Image           2 non-null      object        \n",
      " 7   Image_URL       2 non-null      object        \n",
      "dtypes: datetime64[ns](1), int64(2), object(5)\n",
      "memory usage: 256.0+ bytes\n"
     ]
    }
   ],
   "source": [
    "data.info()"
   ]
  },
  {
   "cell_type": "code",
   "execution_count": 46,
   "id": "d28717e5",
   "metadata": {},
   "outputs": [],
   "source": [
    "IP='localhost'\n",
    "myclient = pymongo.MongoClient(\"mongodb://{}:27017/\".format(IP))\n",
    "mydb = myclient[\"fm_db\"]\n",
    "mycol = mydb[\"power_reading_meter\"]\n",
    "y = [ x for x in mycol.find({\"_id\" : ObjectId(\"62f8087c5d8adca3435f1b24\")})]"
   ]
  },
  {
   "cell_type": "code",
   "execution_count": 17,
   "id": "f2ddd2a9",
   "metadata": {},
   "outputs": [
    {
     "data": {
      "text/plain": [
       "'62f8087c5d8adca3435f1b20'"
      ]
     },
     "execution_count": 17,
     "metadata": {},
     "output_type": "execute_result"
    }
   ],
   "source": [
    "row_id = str(y[0]['_id'])\n",
    "image_id = str(y[0]['Image'])\n",
    "image_id"
   ]
  },
  {
   "cell_type": "code",
   "execution_count": null,
   "id": "f38e04a7",
   "metadata": {},
   "outputs": [],
   "source": []
  },
  {
   "cell_type": "code",
   "execution_count": null,
   "id": "dc82808c",
   "metadata": {},
   "outputs": [],
   "source": []
  },
  {
   "cell_type": "code",
   "execution_count": null,
   "id": "e4647b11",
   "metadata": {},
   "outputs": [],
   "source": []
  },
  {
   "cell_type": "code",
   "execution_count": null,
   "id": "2ce825f7",
   "metadata": {},
   "outputs": [],
   "source": []
  },
  {
   "cell_type": "code",
   "execution_count": null,
   "id": "aed963c7",
   "metadata": {},
   "outputs": [],
   "source": []
  },
  {
   "cell_type": "code",
   "execution_count": 2,
   "id": "2a305b7b",
   "metadata": {},
   "outputs": [],
   "source": [
    "import pandas as pd"
   ]
  },
  {
   "cell_type": "code",
   "execution_count": 3,
   "id": "950121d8",
   "metadata": {},
   "outputs": [
    {
     "name": "stderr",
     "output_type": "stream",
     "text": [
      "C:\\Users\\Mohamed Gamal\\anaconda3\\lib\\site-packages\\openpyxl\\worksheet\\_reader.py:312: UserWarning: Data Validation extension is not supported and will be removed\n",
      "  warn(msg)\n"
     ]
    }
   ],
   "source": [
    "df_ssi_nokia = pd.read_excel(\"../Files/SSI/Site Security Index_SSI-Nokia.xlsx\")\n",
    "df_ssi_huawei = pd.read_excel(\"../Files/SSI/Site Security Index_SSI-Huawei.xlsx\")\n",
    "df_ssi_nokia = df_ssi_nokia[[\"Site Name\",\"Theft Case\"]]\n",
    "df_ssi_huawei = df_ssi_huawei[[\"Site Name\",\"Theft Case\"]]\n",
    "df_ssi_nokia.dropna(inplace=True)\n",
    "df_ssi_huawei.dropna(inplace=True)"
   ]
  },
  {
   "cell_type": "code",
   "execution_count": 4,
   "id": "6a517a69",
   "metadata": {},
   "outputs": [
    {
     "data": {
      "text/html": [
       "<div>\n",
       "<style scoped>\n",
       "    .dataframe tbody tr th:only-of-type {\n",
       "        vertical-align: middle;\n",
       "    }\n",
       "\n",
       "    .dataframe tbody tr th {\n",
       "        vertical-align: top;\n",
       "    }\n",
       "\n",
       "    .dataframe thead th {\n",
       "        text-align: right;\n",
       "    }\n",
       "</style>\n",
       "<table border=\"1\" class=\"dataframe\">\n",
       "  <thead>\n",
       "    <tr style=\"text-align: right;\">\n",
       "      <th></th>\n",
       "      <th>Site Name</th>\n",
       "      <th>Theft Case</th>\n",
       "    </tr>\n",
       "  </thead>\n",
       "  <tbody>\n",
       "    <tr>\n",
       "      <th>2</th>\n",
       "      <td>ICAIG21999</td>\n",
       "      <td>No</td>\n",
       "    </tr>\n",
       "  </tbody>\n",
       "</table>\n",
       "</div>"
      ],
      "text/plain": [
       "    Site Name Theft Case\n",
       "2  ICAIG21999         No"
      ]
     },
     "execution_count": 4,
     "metadata": {},
     "output_type": "execute_result"
    }
   ],
   "source": [
    "df_ssi_nokia.head(1)"
   ]
  },
  {
   "cell_type": "code",
   "execution_count": 5,
   "id": "beb7e8b3",
   "metadata": {},
   "outputs": [
    {
     "data": {
      "text/html": [
       "<div>\n",
       "<style scoped>\n",
       "    .dataframe tbody tr th:only-of-type {\n",
       "        vertical-align: middle;\n",
       "    }\n",
       "\n",
       "    .dataframe tbody tr th {\n",
       "        vertical-align: top;\n",
       "    }\n",
       "\n",
       "    .dataframe thead th {\n",
       "        text-align: right;\n",
       "    }\n",
       "</style>\n",
       "<table border=\"1\" class=\"dataframe\">\n",
       "  <thead>\n",
       "    <tr style=\"text-align: right;\">\n",
       "      <th></th>\n",
       "      <th>Site Name</th>\n",
       "      <th>Theft Case</th>\n",
       "    </tr>\n",
       "  </thead>\n",
       "  <tbody>\n",
       "    <tr>\n",
       "      <th>2</th>\n",
       "      <td>BSINS26745</td>\n",
       "      <td>No</td>\n",
       "    </tr>\n",
       "  </tbody>\n",
       "</table>\n",
       "</div>"
      ],
      "text/plain": [
       "    Site Name Theft Case\n",
       "2  BSINS26745         No"
      ]
     },
     "execution_count": 5,
     "metadata": {},
     "output_type": "execute_result"
    }
   ],
   "source": [
    "df_ssi_huawei.head(1)"
   ]
  },
  {
   "cell_type": "code",
   "execution_count": 21,
   "id": "40822359",
   "metadata": {},
   "outputs": [
    {
     "data": {
      "text/html": [
       "<div>\n",
       "<style scoped>\n",
       "    .dataframe tbody tr th:only-of-type {\n",
       "        vertical-align: middle;\n",
       "    }\n",
       "\n",
       "    .dataframe tbody tr th {\n",
       "        vertical-align: top;\n",
       "    }\n",
       "\n",
       "    .dataframe thead th {\n",
       "        text-align: right;\n",
       "    }\n",
       "</style>\n",
       "<table border=\"1\" class=\"dataframe\">\n",
       "  <thead>\n",
       "    <tr style=\"text-align: right;\">\n",
       "      <th></th>\n",
       "      <th>Site_ID</th>\n",
       "      <th>Vendor</th>\n",
       "      <th>Date_From</th>\n",
       "      <th>Date_To</th>\n",
       "    </tr>\n",
       "  </thead>\n",
       "  <tbody>\n",
       "    <tr>\n",
       "      <th>0</th>\n",
       "      <td>LALXA13245</td>\n",
       "      <td>NOKIA</td>\n",
       "      <td>2022-04-01</td>\n",
       "      <td>2022-04-30</td>\n",
       "    </tr>\n",
       "    <tr>\n",
       "      <th>1</th>\n",
       "      <td>LDELE44813</td>\n",
       "      <td>HUAWEI</td>\n",
       "      <td>2022-04-01</td>\n",
       "      <td>2022-04-30</td>\n",
       "    </tr>\n",
       "    <tr>\n",
       "      <th>2</th>\n",
       "      <td>LSINS16147</td>\n",
       "      <td>HUAWEI</td>\n",
       "      <td>2022-04-01</td>\n",
       "      <td>2022-04-30</td>\n",
       "    </tr>\n",
       "    <tr>\n",
       "      <th>3</th>\n",
       "      <td>LSINS16202</td>\n",
       "      <td>HUAWEI</td>\n",
       "      <td>2022-04-01</td>\n",
       "      <td>2022-04-30</td>\n",
       "    </tr>\n",
       "    <tr>\n",
       "      <th>4</th>\n",
       "      <td>LSINS16209</td>\n",
       "      <td>HUAWEI</td>\n",
       "      <td>2022-04-01</td>\n",
       "      <td>2022-04-30</td>\n",
       "    </tr>\n",
       "    <tr>\n",
       "      <th>5</th>\n",
       "      <td>LUPPS18463</td>\n",
       "      <td>NOKIA</td>\n",
       "      <td>2022-04-01</td>\n",
       "      <td>2022-04-30</td>\n",
       "    </tr>\n",
       "    <tr>\n",
       "      <th>6</th>\n",
       "      <td>LUPPS18464</td>\n",
       "      <td>NOKIA</td>\n",
       "      <td>2022-04-01</td>\n",
       "      <td>2022-04-30</td>\n",
       "    </tr>\n",
       "    <tr>\n",
       "      <th>7</th>\n",
       "      <td>LUPPS28371</td>\n",
       "      <td>NOKIA</td>\n",
       "      <td>2022-04-01</td>\n",
       "      <td>2022-04-30</td>\n",
       "    </tr>\n",
       "    <tr>\n",
       "      <th>8</th>\n",
       "      <td>XX</td>\n",
       "      <td>NOKIA</td>\n",
       "      <td>2022-04-01</td>\n",
       "      <td>2022-04-30</td>\n",
       "    </tr>\n",
       "    <tr>\n",
       "      <th>9</th>\n",
       "      <td>XX</td>\n",
       "      <td>HUAWEI</td>\n",
       "      <td>2022-04-01</td>\n",
       "      <td>2022-04-30</td>\n",
       "    </tr>\n",
       "  </tbody>\n",
       "</table>\n",
       "</div>"
      ],
      "text/plain": [
       "      Site_ID  Vendor  Date_From    Date_To\n",
       "0  LALXA13245   NOKIA 2022-04-01 2022-04-30\n",
       "1  LDELE44813  HUAWEI 2022-04-01 2022-04-30\n",
       "2  LSINS16147  HUAWEI 2022-04-01 2022-04-30\n",
       "3  LSINS16202  HUAWEI 2022-04-01 2022-04-30\n",
       "4  LSINS16209  HUAWEI 2022-04-01 2022-04-30\n",
       "5  LUPPS18463   NOKIA 2022-04-01 2022-04-30\n",
       "6  LUPPS18464   NOKIA 2022-04-01 2022-04-30\n",
       "7  LUPPS28371   NOKIA 2022-04-01 2022-04-30\n",
       "8          XX   NOKIA 2022-04-01 2022-04-30\n",
       "9          XX  HUAWEI 2022-04-01 2022-04-30"
      ]
     },
     "execution_count": 21,
     "metadata": {},
     "output_type": "execute_result"
    }
   ],
   "source": [
    "#template Data\n",
    "input_data = pd.read_excel(\"../Files/SSI/Template.xlsx\")\n",
    "input_data.head(10)"
   ]
  },
  {
   "cell_type": "code",
   "execution_count": 40,
   "id": "aeb9e6fb",
   "metadata": {},
   "outputs": [
    {
     "name": "stdout",
     "output_type": "stream",
     "text": [
      "LALXA13245----64.0\n",
      "LDELE44813----49.5\n",
      "LSINS16147----49.5\n",
      "LSINS16202----33.333333333333336\n",
      "LSINS16209----49.5\n",
      "LUPPS18463----33.333333333333336\n",
      "LUPPS18464----49.5\n",
      "LUPPS28371----35.0\n",
      "XXNot Found\n",
      "XXNot Found\n"
     ]
    }
   ],
   "source": [
    "IP='localhost'\n",
    "myclient = pymongo.MongoClient(\"mongodb://{}:27017/\".format(IP))\n",
    "mydb = myclient[\"fm_db\"]\n",
    "mycol = mydb[\"power_reading_meter\"]\n",
    "for i in range(input_data.shape[0]):\n",
    "    y = [ x for x in mycol.find({\"Site_ID\" : str(input_data.iloc[i,0]), \"Vendor\": str(input_data.iloc[i,1])})]\n",
    "    try:\n",
    "        for x in mycol.aggregate(\n",
    "           [{\"$match\":\n",
    "            {\"Site_ID\": str(y[0][\"Site_ID\"]), \"Vendor\": str(input_data.iloc[i,1]),\n",
    "            \"Date\": {\"$gte\":  pd.to_datetime(input_data.iloc[i,2]),\"$lte\": pd.to_datetime(input_data.iloc[i,3])}}},\n",
    "            {\"$group\": {\"_id\": \"null\",\"AverageValue\":{ \"$avg\": \"$Power\"}}}]):\n",
    "            print(str(input_data.iloc[i,0])+\"----\"+str(x[\"AverageValue\"]))\n",
    "    except:\n",
    "        print(str(input_data.iloc[i,0]) + \"Not Found\")\n"
   ]
  },
  {
   "cell_type": "code",
   "execution_count": 41,
   "id": "237e51f3",
   "metadata": {},
   "outputs": [
    {
     "data": {
      "text/html": [
       "<div>\n",
       "<style scoped>\n",
       "    .dataframe tbody tr th:only-of-type {\n",
       "        vertical-align: middle;\n",
       "    }\n",
       "\n",
       "    .dataframe tbody tr th {\n",
       "        vertical-align: top;\n",
       "    }\n",
       "\n",
       "    .dataframe thead th {\n",
       "        text-align: right;\n",
       "    }\n",
       "</style>\n",
       "<table border=\"1\" class=\"dataframe\">\n",
       "  <thead>\n",
       "    <tr style=\"text-align: right;\">\n",
       "      <th></th>\n",
       "      <th>Site_ID</th>\n",
       "      <th>Vendor</th>\n",
       "      <th>Theft_Case</th>\n",
       "      <th>Count_Visits</th>\n",
       "      <th>AVG_Power</th>\n",
       "    </tr>\n",
       "  </thead>\n",
       "  <tbody>\n",
       "    <tr>\n",
       "      <th>0</th>\n",
       "      <td>LALXA13245</td>\n",
       "      <td>NOKIA</td>\n",
       "      <td>No</td>\n",
       "      <td>2</td>\n",
       "      <td>64.0</td>\n",
       "    </tr>\n",
       "    <tr>\n",
       "      <th>1</th>\n",
       "      <td>LDELE44813</td>\n",
       "      <td>HUAWEI</td>\n",
       "      <td>No</td>\n",
       "      <td>4</td>\n",
       "      <td>49.5</td>\n",
       "    </tr>\n",
       "    <tr>\n",
       "      <th>2</th>\n",
       "      <td>LSINS16147</td>\n",
       "      <td>HUAWEI</td>\n",
       "      <td>No</td>\n",
       "      <td>4</td>\n",
       "      <td>49.5</td>\n",
       "    </tr>\n",
       "    <tr>\n",
       "      <th>3</th>\n",
       "      <td>LSINS16202</td>\n",
       "      <td>HUAWEI</td>\n",
       "      <td>No</td>\n",
       "      <td>3</td>\n",
       "      <td>33.333333333333336</td>\n",
       "    </tr>\n",
       "    <tr>\n",
       "      <th>4</th>\n",
       "      <td>LSINS16209</td>\n",
       "      <td>HUAWEI</td>\n",
       "      <td>Yes</td>\n",
       "      <td>4</td>\n",
       "      <td>49.5</td>\n",
       "    </tr>\n",
       "    <tr>\n",
       "      <th>5</th>\n",
       "      <td>LUPPS18463</td>\n",
       "      <td>NOKIA</td>\n",
       "      <td>No</td>\n",
       "      <td>3</td>\n",
       "      <td>33.333333333333336</td>\n",
       "    </tr>\n",
       "    <tr>\n",
       "      <th>6</th>\n",
       "      <td>LUPPS18464</td>\n",
       "      <td>NOKIA</td>\n",
       "      <td>No</td>\n",
       "      <td>4</td>\n",
       "      <td>49.5</td>\n",
       "    </tr>\n",
       "    <tr>\n",
       "      <th>7</th>\n",
       "      <td>LUPPS28371</td>\n",
       "      <td>NOKIA</td>\n",
       "      <td>No</td>\n",
       "      <td>2</td>\n",
       "      <td>35.0</td>\n",
       "    </tr>\n",
       "    <tr>\n",
       "      <th>8</th>\n",
       "      <td>XX</td>\n",
       "      <td>NOKIA</td>\n",
       "      <td>Not Found</td>\n",
       "      <td>Not Found</td>\n",
       "      <td>Not Found</td>\n",
       "    </tr>\n",
       "    <tr>\n",
       "      <th>9</th>\n",
       "      <td>XX</td>\n",
       "      <td>HUAWEI</td>\n",
       "      <td>Not Found</td>\n",
       "      <td>Not Found</td>\n",
       "      <td>Not Found</td>\n",
       "    </tr>\n",
       "  </tbody>\n",
       "</table>\n",
       "</div>"
      ],
      "text/plain": [
       "      Site_ID  Vendor Theft_Case Count_Visits           AVG_Power\n",
       "0  LALXA13245   NOKIA         No            2                64.0\n",
       "1  LDELE44813  HUAWEI         No            4                49.5\n",
       "2  LSINS16147  HUAWEI         No            4                49.5\n",
       "3  LSINS16202  HUAWEI         No            3  33.333333333333336\n",
       "4  LSINS16209  HUAWEI        Yes            4                49.5\n",
       "5  LUPPS18463   NOKIA         No            3  33.333333333333336\n",
       "6  LUPPS18464   NOKIA         No            4                49.5\n",
       "7  LUPPS28371   NOKIA         No            2                35.0\n",
       "8          XX   NOKIA  Not Found    Not Found           Not Found\n",
       "9          XX  HUAWEI  Not Found    Not Found           Not Found"
      ]
     },
     "execution_count": 41,
     "metadata": {},
     "output_type": "execute_result"
    }
   ],
   "source": [
    "IP='localhost'\n",
    "myclient = pymongo.MongoClient(\"mongodb://{}:27017/\".format(IP))\n",
    "mydb = myclient[\"fm_db\"]\n",
    "mycol = mydb[\"power_reading_meter\"]\n",
    "\n",
    "data = {'Site_ID': [],'Vendor': [],'Theft_Case':[], 'Count_Visits':[], 'AVG_Power':[]}\n",
    "for i in range(input_data.shape[0]):\n",
    "  ########################################Nokia################################################  \n",
    "    if (input_data.iloc[i,1]=='NOKIA'):\n",
    "        data['Site_ID'].append(input_data.iloc[i,0])\n",
    "        data['Vendor'].append(input_data.iloc[i,1])\n",
    "        ################################Theft_Case#############################\n",
    "        try:\n",
    "            snap = df_ssi_nokia[df_ssi_nokia[\"Site Name\"]==input_data.iloc[i,0]]\n",
    "            Theft_Case = snap.iloc[0,1]\n",
    "            data['Theft_Case'].append(Theft_Case)\n",
    "        except:\n",
    "            data['Theft_Case'].append(\"Not Found\")\n",
    "        ################################Count_Visits#############################\n",
    "        y = [ x for x in mycol.find({\"Site_ID\" : str(input_data.iloc[i,0]), \"Vendor\": str(input_data.iloc[i,1])})]\n",
    "        try:\n",
    "            for x in mycol.aggregate(\n",
    "               [{\"$match\":\n",
    "                {\"Site_ID\": str(y[0][\"Site_ID\"]), \"Vendor\": str(input_data.iloc[i,1]),\n",
    "                \"Date\": {\"$gte\":  pd.to_datetime(input_data.iloc[i,2]),\"$lte\": pd.to_datetime(input_data.iloc[i,3])}}},\n",
    "                {\"$count\": \"Count_Visits\"}]):\n",
    "                \n",
    "                data['Count_Visits'].append(str(x[\"Count_Visits\"]))\n",
    "        except:\n",
    "            data['Count_Visits'].append(\"Not Found\")\n",
    "        ################################Average_Power#############################\n",
    "        try:\n",
    "            for x in mycol.aggregate(\n",
    "               [{\"$match\":\n",
    "                {\"Site_ID\": str(y[0][\"Site_ID\"]), \"Vendor\": str(input_data.iloc[i,1]),\n",
    "                \"Date\": {\"$gte\":  pd.to_datetime(input_data.iloc[i,2]),\"$lte\": pd.to_datetime(input_data.iloc[i,3])}}},\n",
    "                {\"$group\": {\"_id\": \"null\",\"AverageValue\":{ \"$avg\": \"$Power\"}}}]):\n",
    "                \n",
    "                data['AVG_Power'].append(str(x[\"AverageValue\"]))\n",
    "        except:\n",
    "            data['AVG_Power'].append(\"Not Found\")\n",
    "        \n",
    " ########################################HUAWEI################################################\n",
    "    if (input_data.iloc[i,1]=='HUAWEI'):\n",
    "        data['Site_ID'].append(input_data.iloc[i,0])\n",
    "        data['Vendor'].append(input_data.iloc[i,1])\n",
    "        ################################Theft_Case#############################\n",
    "        try:\n",
    "            snap = df_ssi_huawei[df_ssi_huawei[\"Site Name\"]==input_data.iloc[i,0]]\n",
    "            Theft_Case = snap.iloc[0,1]\n",
    "            data['Theft_Case'].append(Theft_Case)\n",
    "        except:\n",
    "            data['Theft_Case'].append(\"Not Found\")\n",
    "        ################################Count_Visits#############################\n",
    "        y = [ x for x in mycol.find({\"Site_ID\" : str(input_data.iloc[i,0]), \"Vendor\": str(input_data.iloc[i,1])})]\n",
    "        try:\n",
    "            for x in mycol.aggregate(\n",
    "               [{\"$match\":\n",
    "                {\"Site_ID\": str(y[0][\"Site_ID\"]), \"Vendor\": str(input_data.iloc[i,1]),\n",
    "                \"Date\": {\"$gte\":  pd.to_datetime(input_data.iloc[i,2]),\"$lte\": pd.to_datetime(input_data.iloc[i,3])}}},\n",
    "                {\"$count\": \"Count_Visits\"}]):\n",
    "                data['Count_Visits'].append(str(x[\"Count_Visits\"]))\n",
    "        except:\n",
    "            data['Count_Visits'].append(\"Not Found\")\n",
    "            ################################Average_Power#############################\n",
    "        try:\n",
    "            for x in mycol.aggregate(\n",
    "               [{\"$match\":\n",
    "                {\"Site_ID\": str(y[0][\"Site_ID\"]), \"Vendor\": str(input_data.iloc[i,1]),\n",
    "                \"Date\": {\"$gte\":  pd.to_datetime(input_data.iloc[i,2]),\"$lte\": pd.to_datetime(input_data.iloc[i,3])}}},\n",
    "                {\"$group\": {\"_id\": \"null\",\"AverageValue\":{ \"$avg\": \"$Power\"}}}]):\n",
    "                \n",
    "                data['AVG_Power'].append(str(x[\"AverageValue\"]))\n",
    "        except:\n",
    "            data['AVG_Power'].append(\"Not Found\")\n",
    "\n",
    "        \n",
    "final = pd.DataFrame(data)\n",
    "final"
   ]
  },
  {
   "cell_type": "code",
   "execution_count": null,
   "id": "4c03fb8b",
   "metadata": {},
   "outputs": [],
   "source": []
  }
 ],
 "metadata": {
  "kernelspec": {
   "display_name": "Python 3 (ipykernel)",
   "language": "python",
   "name": "python3"
  },
  "language_info": {
   "codemirror_mode": {
    "name": "ipython",
    "version": 3
   },
   "file_extension": ".py",
   "mimetype": "text/x-python",
   "name": "python",
   "nbconvert_exporter": "python",
   "pygments_lexer": "ipython3",
   "version": "3.9.7"
  }
 },
 "nbformat": 4,
 "nbformat_minor": 5
}
